{
 "cells": [
  {
   "cell_type": "markdown",
   "id": "c1bbd777",
   "metadata": {},
   "source": [
    "## Cell Behavior\n",
    "\n",
    "Cells behave in a quirky way.\n",
    "\n",
    "Technically, we don't need to invoke print() on an expression or a variable if it's the last line to be evaluted by Python because Jupyter will display it for us automatically."
   ]
  },
  {
   "cell_type": "code",
   "execution_count": 12,
   "id": "16019831",
   "metadata": {
    "scrolled": true
   },
   "outputs": [
    {
     "data": {
      "text/plain": [
       "2"
      ]
     },
     "execution_count": 12,
     "metadata": {},
     "output_type": "execute_result"
    }
   ],
   "source": [
    "color = \"teal\"  # Will not be output\n",
    "\n",
    "73 * 37  # Will not be output\n",
    "\n",
    "1 + 1  # Will be output because it's the last expression to be evaluated"
   ]
  },
  {
   "cell_type": "code",
   "execution_count": 13,
   "id": "b1250189",
   "metadata": {},
   "outputs": [
    {
     "data": {
      "text/plain": [
       "'teal'"
      ]
     },
     "execution_count": 13,
     "metadata": {},
     "output_type": "execute_result"
    }
   ],
   "source": [
    "color  # We still have access to the value stored in \"color\""
   ]
  },
  {
   "cell_type": "markdown",
   "id": "bfc868c5",
   "metadata": {},
   "source": [
    "## Order matters!\n",
    "\n",
    "Technically, the order of _execution_ of the code cells is what really matters in a Jupyter Notebook, so for example, I can declare x = 5 and execute that cell, and then create a new cell above it and invoke x, that is perfectly fine because Python already knows what x is.\n",
    "\n",
    "_However_, imagine our Notebook is very long and complicated, and sometime in the future I or someone else does \"Run All,\" now the cells will run in order! This means that Python will not recognize \"x\" and we'll get a NameError.\n",
    "\n",
    "_Example of what not to do:_"
   ]
  },
  {
   "cell_type": "code",
   "execution_count": 14,
   "id": "db73c972",
   "metadata": {},
   "outputs": [
    {
     "ename": "NameError",
     "evalue": "name 'x' is not defined",
     "output_type": "error",
     "traceback": [
      "\u001b[1;31m---------------------------------------------------------------------------\u001b[0m",
      "\u001b[1;31mNameError\u001b[0m                                 Traceback (most recent call last)",
      "Cell \u001b[1;32mIn[14], line 1\u001b[0m\n\u001b[1;32m----> 1\u001b[0m x\n",
      "\u001b[1;31mNameError\u001b[0m: name 'x' is not defined"
     ]
    }
   ],
   "source": [
    "x"
   ]
  },
  {
   "cell_type": "code",
   "execution_count": null,
   "id": "6fda458a",
   "metadata": {},
   "outputs": [],
   "source": [
    "x = 5"
   ]
  },
  {
   "cell_type": "markdown",
   "id": "d75fd4c6",
   "metadata": {},
   "source": [
    "## Imports and Aliases\n",
    "\n",
    "When importing a module in Python, we can abbreviate the name of a module using the `as` keyword like so:"
   ]
  },
  {
   "cell_type": "code",
   "execution_count": 16,
   "id": "5a0f771d",
   "metadata": {},
   "outputs": [],
   "source": [
    "import statistics as stats"
   ]
  },
  {
   "cell_type": "markdown",
   "id": "d6ba25d0",
   "metadata": {},
   "source": [
    "## Auto-complete in Jupyter\n",
    "\n",
    "We can auto-complete statements in Jupyter by hitting the `Tab` key.\n",
    "\n",
    "We can also use it to see what methods are available within a certain module.\n",
    "\n",
    "To do this, we can type our alias `stats`, then the dot operator, and then hit `Tab`.\n",
    "\n",
    "This will popup a tooltip with a scrollable list of all the methods for the `statistics` module."
   ]
  },
  {
   "cell_type": "markdown",
   "id": "63ad30e0",
   "metadata": {},
   "source": [
    "## Viewing Documentation in a Notebook\n",
    "\n",
    "We can type in the name or alias of a module and then `?`.\n",
    "\n",
    "Once we run that cell, a new window within Jupyter will open with documentation for that module.\n",
    "\n",
    "Alternatively, we can also press `Shift` + `Tab` when in *editing* mode in a code cell, and that will open a smaller popup, but it can be expanded."
   ]
  },
  {
   "cell_type": "code",
   "execution_count": null,
   "id": "214ef697",
   "metadata": {},
   "outputs": [],
   "source": [
    "stats?"
   ]
  },
  {
   "cell_type": "markdown",
   "id": "be8408b1",
   "metadata": {},
   "source": [
    "Note: This also works for methods of modules."
   ]
  },
  {
   "cell_type": "code",
   "execution_count": 17,
   "id": "fe2592a7",
   "metadata": {},
   "outputs": [],
   "source": [
    "import pandas\n",
    "pandas.read_csv?"
   ]
  }
 ],
 "metadata": {
  "kernelspec": {
   "display_name": "Python 3 (ipykernel)",
   "language": "python",
   "name": "python3"
  },
  "language_info": {
   "codemirror_mode": {
    "name": "ipython",
    "version": 3
   },
   "file_extension": ".py",
   "mimetype": "text/x-python",
   "name": "python",
   "nbconvert_exporter": "python",
   "pygments_lexer": "ipython3",
   "version": "3.11.4"
  }
 },
 "nbformat": 4,
 "nbformat_minor": 5
}
